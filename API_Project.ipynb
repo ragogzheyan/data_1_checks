{
 "cells": [
  {
   "cell_type": "markdown",
   "metadata": {},
   "source": [
    "### API Project\n",
    "#### List of universities in a specified country"
   ]
  },
  {
   "cell_type": "code",
   "execution_count": 1,
   "metadata": {},
   "outputs": [],
   "source": [
    "# import requests\n",
    "import requests\n",
    "# import pandas as pd\n",
    "import pandas as pd "
   ]
  },
  {
   "cell_type": "code",
   "execution_count": null,
   "metadata": {},
   "outputs": [],
   "source": [
    "# Data request from API\n",
    "r = requests.get('http://universities.hipolabs.com/search?country=United+States')\n",
    "data = r.json()\n",
    "df = pd.DataFrame(data=data)\n",
    "df.head()"
   ]
  },
  {
   "cell_type": "code",
   "execution_count": null,
   "metadata": {},
   "outputs": [],
   "source": [
    "# Extract specific details about given data including: general info, last 5 rows, shape, and types\n",
    "df.info(), df.tail(), df.shape, df.dtypes"
   ]
  },
  {
   "cell_type": "code",
   "execution_count": null,
   "metadata": {},
   "outputs": [],
   "source": [
    "# Generate descriptive statistics for all numeric columns\n",
    "df.describe()"
   ]
  },
  {
   "cell_type": "code",
   "execution_count": null,
   "metadata": {},
   "outputs": [],
   "source": [
    "# Count of missing values in each column\n",
    "df.isnull().sum()"
   ]
  },
  {
   "cell_type": "code",
   "execution_count": null,
   "metadata": {},
   "outputs": [],
   "source": [
    "# Last five rows from the API and new row found\n",
    "# Define the data frame and query() all in one step\n",
    "df = pd.DataFrame({\n",
    "    'alpha_two_code':['US','US','US','US','US'],\n",
    "    'domains' : ['gulfcoast.edu', ['academyart.edu', 'art.edu'],'lr.edu', 'pointpark.edu', 'northwood.edu'],\n",
    "    'country':['United States', 'United States', 'United States', 'United States', 'United States'],\n",
    "    'state-province' : ['Florida', 'California', 'North Carolina', 'Pennsylvania', 'Michigan'],\n",
    "    'web_pages' : ['https://www.gulfcoast.edu/', 'https://www.academyart.edu/', 'https://www.lr.edu/', 'https://pointpark.edu/', 'https://northwood.edu/'],\n",
    "    'name' : ['Gulf Coast State College', 'Academy of Art University', 'Lenoir-Rhyne University', 'Point Park University', 'Northwood University'],\n",
    "    'found':['1957', '1929', '1891', '1960', '1959'] # new column\n",
    "}).query(\"country == 'United States'\")\n",
    "\n",
    "\n",
    "df"
   ]
  },
  {
   "cell_type": "code",
   "execution_count": null,
   "metadata": {},
   "outputs": [],
   "source": [
    "# OR operator \n",
    "df.query(\"(domains == 'lr.edu') or (web_pages == 'https://northwood.edu/')\")"
   ]
  },
  {
   "cell_type": "code",
   "execution_count": null,
   "metadata": {},
   "outputs": [],
   "source": [
    "# AND operator\n",
    "df.query(\"(country == 'United States') and (found == '1957')\")\n"
   ]
  },
  {
   "cell_type": "code",
   "execution_count": null,
   "metadata": {},
   "outputs": [],
   "source": [
    "# Values in a python array\n",
    "names_array = ['Academy of Art University', 'Point Park University']\n",
    "\n",
    "df.query('name in @names_array')"
   ]
  },
  {
   "cell_type": "code",
   "execution_count": null,
   "metadata": {},
   "outputs": [],
   "source": [
    "# Key/Value for second and third columns\n",
    "df[['domains','country']].tail()"
   ]
  },
  {
   "cell_type": "code",
   "execution_count": null,
   "metadata": {},
   "outputs": [],
   "source": [
    "# First four rows of the data frame\n",
    "df.iloc[:4]"
   ]
  },
  {
   "cell_type": "code",
   "execution_count": null,
   "metadata": {},
   "outputs": [],
   "source": []
  }
 ],
 "metadata": {
  "interpreter": {
   "hash": "ad2bdc8ecc057115af97d19610ffacc2b4e99fae6737bb82f5d7fb13d2f2c186"
  },
  "kernelspec": {
   "display_name": "Python 3.9.7 ('base')",
   "language": "python",
   "name": "python3"
  },
  "language_info": {
   "codemirror_mode": {
    "name": "ipython",
    "version": 3
   },
   "file_extension": ".py",
   "mimetype": "text/x-python",
   "name": "python",
   "nbconvert_exporter": "python",
   "pygments_lexer": "ipython3",
   "version": "3.9.7"
  },
  "orig_nbformat": 4
 },
 "nbformat": 4,
 "nbformat_minor": 2
}
